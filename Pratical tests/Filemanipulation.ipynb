{
 "cells": [
  {
   "cell_type": "code",
   "execution_count": 52,
   "metadata": {},
   "outputs": [],
   "source": [
    "import os\n",
    "from os.path import join\n",
    "import shutil\n",
    "\n",
    "source_folder = r'C:\\Users\\User\\Documents\\Python\\mask-images\\masks'\n",
    "human_folder = r'C:\\Users\\User\\Documents\\Python\\mask-images\\Human'\n",
    "background_folder = r'C:\\Users\\User\\Documents\\Python\\mask-images\\Background'\n",
    "\n",
    "# List all files in the source folder\n",
    "files = os.listdir(source_folder)\n",
    "    \n",
    "for file_name in files:\n",
    "        num_str = repr(file_name)\n",
    "        last_digit_str = num_str[-6]\n",
    "        # Check if the last two characters in the file name are '00' or '01'\n",
    "        if last_digit_str == '0':\n",
    "            source_path = os.path.join(source_folder)\n",
    "            destination_path = os.path.join(background_folder)\n",
    "            shutil.move(os.path.join(source_path,file_name), destination_path)\n",
    "        elif last_digit_str == '1':\n",
    "            source_path = os.path.join(source_folder)\n",
    "            destination_path = os.path.join(human_folder)\n",
    "            shutil.move(os.path.join(source_path,file_name), destination_path)\n"
   ]
  }
 ],
 "metadata": {
  "kernelspec": {
   "display_name": "Python 3",
   "language": "python",
   "name": "python3"
  },
  "language_info": {
   "codemirror_mode": {
    "name": "ipython",
    "version": 3
   },
   "file_extension": ".py",
   "mimetype": "text/x-python",
   "name": "python",
   "nbconvert_exporter": "python",
   "pygments_lexer": "ipython3",
   "version": "3.11.4"
  }
 },
 "nbformat": 4,
 "nbformat_minor": 2
}
