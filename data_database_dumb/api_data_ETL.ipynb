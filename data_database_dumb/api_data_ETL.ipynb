{
 "cells": [
  {
   "cell_type": "code",
   "execution_count": 1,
   "metadata": {},
   "outputs": [],
   "source": [
    "import requests"
   ]
  },
  {
   "cell_type": "code",
   "execution_count": 2,
   "metadata": {},
   "outputs": [],
   "source": [
    "url = \"https://v6.exchangerate-api.com/v6/1830f28334337bffcf62ff68/latest/USD\"\n",
    "\n",
    "headers = {\n",
    "    \"Authorization\": \"1830f28334337bffcf62ff68\",  # Replace with your actual token\n",
    "    \"Content-Type\": \"application/json\"  # Replace with appropriate headers\n",
    "}\n",
    "\n",
    "response = requests.get(url, headers=headers)"
   ]
  },
  {
   "cell_type": "code",
   "execution_count": 3,
   "metadata": {},
   "outputs": [
    {
     "name": "stdout",
     "output_type": "stream",
     "text": [
      "{'result': 'success', 'documentation': 'https://www.exchangerate-api.com/docs', 'terms_of_use': 'https://www.exchangerate-api.com/terms', 'time_last_update_unix': 1691107201, 'time_last_update_utc': 'Fri, 04 Aug 2023 00:00:01 +0000', 'time_next_update_unix': 1691193601, 'time_next_update_utc': 'Sat, 05 Aug 2023 00:00:01 +0000', 'base_code': 'USD', 'conversion_rates': {'USD': 1, 'AED': 3.6725, 'AFN': 85.3786, 'ALL': 94.4533, 'AMD': 386.1453, 'ANG': 1.79, 'AOA': 831.2009, 'ARS': 276.7507, 'AUD': 1.5272, 'AWG': 1.79, 'AZN': 1.7004, 'BAM': 1.7872, 'BBD': 2.0, 'BDT': 109.4174, 'BGN': 1.7874, 'BHD': 0.376, 'BIF': 2828.3304, 'BMD': 1.0, 'BND': 1.3417, 'BOB': 6.9265, 'BRL': 4.8482, 'BSD': 1.0, 'BTN': 82.8112, 'BWP': 13.4213, 'BYN': 2.8598, 'BZD': 2.0, 'CAD': 1.3357, 'CDF': 2388.0663, 'CHF': 0.8752, 'CLP': 848.0266, 'CNY': 7.1771, 'COP': 4042.8302, 'CRC': 544.7726, 'CUP': 24.0, 'CVE': 100.7581, 'CZK': 22.0407, 'DJF': 177.721, 'DKK': 6.8172, 'DOP': 56.3894, 'DZD': 135.7747, 'EGP': 30.8971, 'ERN': 15.0, 'ETB': 55.0273, 'EUR': 0.9138, 'FJD': 2.2149, 'FKP': 0.7873, 'FOK': 6.8172, 'GBP': 0.7873, 'GEL': 2.615, 'GGP': 0.7873, 'GHS': 11.2327, 'GIP': 0.7873, 'GMD': 62.7923, 'GNF': 8557.6156, 'GTQ': 7.8648, 'GYD': 209.1362, 'HKD': 7.807, 'HNL': 24.6074, 'HRK': 6.8849, 'HTG': 136.6562, 'HUF': 358.937, 'IDR': 15173.4384, 'ILS': 3.6819, 'IMP': 0.7873, 'INR': 82.8112, 'IQD': 1308.186, 'IRR': 42019.5419, 'ISK': 132.3669, 'JEP': 0.7873, 'JMD': 155.3155, 'JOD': 0.709, 'JPY': 142.6915, 'KES': 142.9802, 'KGS': 87.7651, 'KHR': 4143.6688, 'KID': 1.5277, 'KMF': 449.5511, 'KRW': 1300.0869, 'KWD': 0.3075, 'KYD': 0.8333, 'KZT': 445.0111, 'LAK': 19286.8758, 'LBP': 15000.0, 'LKR': 313.8255, 'LRD': 186.4741, 'LSL': 18.6889, 'LYD': 4.788, 'MAD': 9.8294, 'MDL': 17.7589, 'MGA': 4505.179, 'MKD': 56.0661, 'MMK': 2103.1631, 'MNT': 3455.7641, 'MOP': 8.0412, 'MRU': 38.6522, 'MUR': 45.0407, 'MVR': 15.4351, 'MWK': 1070.0405, 'MXN': 17.3166, 'MYR': 4.5563, 'MZN': 63.8626, 'NAD': 18.6889, 'NGN': 760.8952, 'NIO': 36.6046, 'NOK': 10.2702, 'NPR': 132.4978, 'NZD': 1.6448, 'OMR': 0.3845, 'PAB': 1.0, 'PEN': 3.647, 'PGK': 3.5972, 'PHP': 55.657, 'PKR': 285.7157, 'PLN': 4.0741, 'PYG': 7293.5232, 'QAR': 3.64, 'RON': 4.5184, 'RSD': 107.1549, 'RUB': 93.9792, 'RWF': 1204.4731, 'SAR': 3.75, 'SBD': 8.5056, 'SCR': 13.213, 'SDG': 542.8491, 'SEK': 10.7064, 'SGD': 1.3417, 'SHP': 0.7873, 'SLE': 21.2311, 'SLL': 21231.1017, 'SOS': 569.0809, 'SRD': 38.4867, 'SSP': 1000.3545, 'STN': 22.3877, 'SYP': 12985.5885, 'SZL': 18.6889, 'THB': 34.5876, 'TJS': 10.9095, 'TMT': 3.499, 'TND': 3.0874, 'TOP': 2.3388, 'TRY': 26.9904, 'TTD': 6.7611, 'TVD': 1.5277, 'TWD': 31.666, 'TZS': 2475.8738, 'UAH': 36.9254, 'UGX': 3614.1363, 'UYU': 37.5102, 'UZS': 11665.6996, 'VES': 30.1042, 'VND': 23743.0228, 'VUV': 119.8344, 'WST': 2.7391, 'XAF': 599.4015, 'XCD': 2.7, 'XDR': 0.7493, 'XOF': 599.4015, 'XPF': 109.0434, 'YER': 250.2264, 'ZAR': 18.6843, 'ZMW': 19.2039, 'ZWL': 4613.5774}}\n"
     ]
    }
   ],
   "source": [
    "data = response.json()\n",
    "\n",
    "print(data)"
   ]
  },
  {
   "cell_type": "code",
   "execution_count": 4,
   "metadata": {},
   "outputs": [],
   "source": [
    "import pandas as pd\n",
    "df = pd.DataFrame(data)"
   ]
  },
  {
   "cell_type": "code",
   "execution_count": 5,
   "metadata": {},
   "outputs": [
    {
     "data": {
      "text/html": [
       "<div>\n",
       "<style scoped>\n",
       "    .dataframe tbody tr th:only-of-type {\n",
       "        vertical-align: middle;\n",
       "    }\n",
       "\n",
       "    .dataframe tbody tr th {\n",
       "        vertical-align: top;\n",
       "    }\n",
       "\n",
       "    .dataframe thead th {\n",
       "        text-align: right;\n",
       "    }\n",
       "</style>\n",
       "<table border=\"1\" class=\"dataframe\">\n",
       "  <thead>\n",
       "    <tr style=\"text-align: right;\">\n",
       "      <th></th>\n",
       "      <th>result</th>\n",
       "      <th>documentation</th>\n",
       "      <th>terms_of_use</th>\n",
       "      <th>time_last_update_unix</th>\n",
       "      <th>time_last_update_utc</th>\n",
       "      <th>time_next_update_unix</th>\n",
       "      <th>time_next_update_utc</th>\n",
       "      <th>base_code</th>\n",
       "      <th>conversion_rates</th>\n",
       "    </tr>\n",
       "  </thead>\n",
       "  <tbody>\n",
       "    <tr>\n",
       "      <th>AED</th>\n",
       "      <td>success</td>\n",
       "      <td>https://www.exchangerate-api.com/docs</td>\n",
       "      <td>https://www.exchangerate-api.com/terms</td>\n",
       "      <td>1691107201</td>\n",
       "      <td>Fri, 04 Aug 2023 00:00:01 +0000</td>\n",
       "      <td>1691193601</td>\n",
       "      <td>Sat, 05 Aug 2023 00:00:01 +0000</td>\n",
       "      <td>USD</td>\n",
       "      <td>3.6725</td>\n",
       "    </tr>\n",
       "    <tr>\n",
       "      <th>AFN</th>\n",
       "      <td>success</td>\n",
       "      <td>https://www.exchangerate-api.com/docs</td>\n",
       "      <td>https://www.exchangerate-api.com/terms</td>\n",
       "      <td>1691107201</td>\n",
       "      <td>Fri, 04 Aug 2023 00:00:01 +0000</td>\n",
       "      <td>1691193601</td>\n",
       "      <td>Sat, 05 Aug 2023 00:00:01 +0000</td>\n",
       "      <td>USD</td>\n",
       "      <td>85.3786</td>\n",
       "    </tr>\n",
       "    <tr>\n",
       "      <th>ALL</th>\n",
       "      <td>success</td>\n",
       "      <td>https://www.exchangerate-api.com/docs</td>\n",
       "      <td>https://www.exchangerate-api.com/terms</td>\n",
       "      <td>1691107201</td>\n",
       "      <td>Fri, 04 Aug 2023 00:00:01 +0000</td>\n",
       "      <td>1691193601</td>\n",
       "      <td>Sat, 05 Aug 2023 00:00:01 +0000</td>\n",
       "      <td>USD</td>\n",
       "      <td>94.4533</td>\n",
       "    </tr>\n",
       "    <tr>\n",
       "      <th>AMD</th>\n",
       "      <td>success</td>\n",
       "      <td>https://www.exchangerate-api.com/docs</td>\n",
       "      <td>https://www.exchangerate-api.com/terms</td>\n",
       "      <td>1691107201</td>\n",
       "      <td>Fri, 04 Aug 2023 00:00:01 +0000</td>\n",
       "      <td>1691193601</td>\n",
       "      <td>Sat, 05 Aug 2023 00:00:01 +0000</td>\n",
       "      <td>USD</td>\n",
       "      <td>386.1453</td>\n",
       "    </tr>\n",
       "    <tr>\n",
       "      <th>ANG</th>\n",
       "      <td>success</td>\n",
       "      <td>https://www.exchangerate-api.com/docs</td>\n",
       "      <td>https://www.exchangerate-api.com/terms</td>\n",
       "      <td>1691107201</td>\n",
       "      <td>Fri, 04 Aug 2023 00:00:01 +0000</td>\n",
       "      <td>1691193601</td>\n",
       "      <td>Sat, 05 Aug 2023 00:00:01 +0000</td>\n",
       "      <td>USD</td>\n",
       "      <td>1.7900</td>\n",
       "    </tr>\n",
       "  </tbody>\n",
       "</table>\n",
       "</div>"
      ],
      "text/plain": [
       "      result                          documentation  \\\n",
       "AED  success  https://www.exchangerate-api.com/docs   \n",
       "AFN  success  https://www.exchangerate-api.com/docs   \n",
       "ALL  success  https://www.exchangerate-api.com/docs   \n",
       "AMD  success  https://www.exchangerate-api.com/docs   \n",
       "ANG  success  https://www.exchangerate-api.com/docs   \n",
       "\n",
       "                               terms_of_use  time_last_update_unix  \\\n",
       "AED  https://www.exchangerate-api.com/terms             1691107201   \n",
       "AFN  https://www.exchangerate-api.com/terms             1691107201   \n",
       "ALL  https://www.exchangerate-api.com/terms             1691107201   \n",
       "AMD  https://www.exchangerate-api.com/terms             1691107201   \n",
       "ANG  https://www.exchangerate-api.com/terms             1691107201   \n",
       "\n",
       "                time_last_update_utc  time_next_update_unix  \\\n",
       "AED  Fri, 04 Aug 2023 00:00:01 +0000             1691193601   \n",
       "AFN  Fri, 04 Aug 2023 00:00:01 +0000             1691193601   \n",
       "ALL  Fri, 04 Aug 2023 00:00:01 +0000             1691193601   \n",
       "AMD  Fri, 04 Aug 2023 00:00:01 +0000             1691193601   \n",
       "ANG  Fri, 04 Aug 2023 00:00:01 +0000             1691193601   \n",
       "\n",
       "                time_next_update_utc base_code  conversion_rates  \n",
       "AED  Sat, 05 Aug 2023 00:00:01 +0000       USD            3.6725  \n",
       "AFN  Sat, 05 Aug 2023 00:00:01 +0000       USD           85.3786  \n",
       "ALL  Sat, 05 Aug 2023 00:00:01 +0000       USD           94.4533  \n",
       "AMD  Sat, 05 Aug 2023 00:00:01 +0000       USD          386.1453  \n",
       "ANG  Sat, 05 Aug 2023 00:00:01 +0000       USD            1.7900  "
      ]
     },
     "execution_count": 5,
     "metadata": {},
     "output_type": "execute_result"
    }
   ],
   "source": [
    "df.head()"
   ]
  },
  {
   "cell_type": "code",
   "execution_count": 6,
   "metadata": {},
   "outputs": [
    {
     "data": {
      "text/plain": [
       "result                    object\n",
       "documentation             object\n",
       "terms_of_use              object\n",
       "time_last_update_unix      int64\n",
       "time_last_update_utc      object\n",
       "time_next_update_unix      int64\n",
       "time_next_update_utc      object\n",
       "base_code                 object\n",
       "conversion_rates         float64\n",
       "dtype: object"
      ]
     },
     "execution_count": 6,
     "metadata": {},
     "output_type": "execute_result"
    }
   ],
   "source": [
    "df.dtypes "
   ]
  },
  {
   "cell_type": "code",
   "execution_count": 9,
   "metadata": {},
   "outputs": [
    {
     "name": "stdout",
     "output_type": "stream",
     "text": [
      "    base_code  conversion_rates\n",
      "AED       USD            3.6725\n",
      "AFN       USD           85.3786\n",
      "ALL       USD           94.4533\n",
      "AMD       USD          386.1453\n",
      "ANG       USD            1.7900\n",
      "..        ...               ...\n",
      "XPF       USD          109.0434\n",
      "YER       USD          250.2264\n",
      "ZAR       USD           18.6843\n",
      "ZMW       USD           19.2039\n",
      "ZWL       USD         4613.5774\n",
      "\n",
      "[162 rows x 2 columns]\n"
     ]
    }
   ],
   "source": [
    "# Extract specific columns using indexing operator []\n",
    "selected_columns = df[[\"base_code\",\"conversion_rates\"]]\n",
    "print(selected_columns)"
   ]
  },
  {
   "cell_type": "code",
   "execution_count": 10,
   "metadata": {},
   "outputs": [
    {
     "data": {
      "text/plain": [
       "{'object': 'varchar',\n",
       " 'float64': 'float',\n",
       " 'int64': 'varchar',\n",
       " 'datetime64[ns]': 'timestamp',\n",
       " 'bool': 'varchar'}"
      ]
     },
     "execution_count": 10,
     "metadata": {},
     "output_type": "execute_result"
    }
   ],
   "source": [
    "#change datatypes to acceptable ones in the database\n",
    "replacements = {\n",
    "    'object' : 'varchar',\n",
    "    'float64' : 'float',\n",
    "    'int64' : 'varchar',\n",
    "    'datetime64[ns]': 'timestamp',\n",
    "    'bool' : 'varchar'\n",
    "}\n",
    "replacements"
   ]
  },
  {
   "cell_type": "code",
   "execution_count": null,
   "metadata": {},
   "outputs": [],
   "source": []
  },
  {
   "cell_type": "code",
   "execution_count": null,
   "metadata": {},
   "outputs": [],
   "source": []
  },
  {
   "cell_type": "code",
   "execution_count": null,
   "metadata": {},
   "outputs": [],
   "source": []
  }
 ],
 "metadata": {
  "kernelspec": {
   "display_name": "Python 3",
   "language": "python",
   "name": "python3"
  },
  "language_info": {
   "codemirror_mode": {
    "name": "ipython",
    "version": 3
   },
   "file_extension": ".py",
   "mimetype": "text/x-python",
   "name": "python",
   "nbconvert_exporter": "python",
   "pygments_lexer": "ipython3",
   "version": "3.11.4"
  },
  "orig_nbformat": 4
 },
 "nbformat": 4,
 "nbformat_minor": 2
}
